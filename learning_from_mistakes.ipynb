{
 "cells": [
  {
   "cell_type": "markdown",
   "metadata": {},
   "source": [
    "# Tentando aprender sobre as GNNs usando o dataset do TCC"
   ]
  },
  {
   "cell_type": "code",
   "execution_count": 1,
   "metadata": {},
   "outputs": [],
   "source": [
    "import pandas as pd\n",
    "from datetime import datetime\n",
    "\n",
    "def get_dict_val(name, collection):\n",
    "    if name in collection:\n",
    "        val = collection[name]\n",
    "    else:\n",
    "        val = len(collection)\n",
    "        collection[name] = val\n",
    "    return val\n",
    "\n",
    "def format_timestamp(timestamp):\n",
    "    firstTs = -1\n",
    "    timestamps = []\n",
    "    for i in timestamp:\n",
    "        dt_ts = datetime.strptime(i, '%Y/%m/%d %H:%M')\n",
    "        ts = dt_ts.timestamp()\n",
    "        if firstTs == -1:\n",
    "            day = dt_ts.day\n",
    "            month = dt_ts.month\n",
    "            year = dt_ts.year\n",
    "            startTime = datetime(year, month, day)\n",
    "            firstTs = startTime.timestamp() - 10\n",
    "        ts = ts - firstTs\n",
    "        timestamps.append(ts)\n",
    "\n",
    "    return timestamps\n",
    "\n",
    "\n",
    "df_edges = pd.read_csv(\"./data/HI-Small_Trans.csv\")\n",
    "\n",
    "currency = dict()\n",
    "payment_format = dict()\n",
    "fromAccIdStr = dict()\n",
    "toAccIdStr = dict()\n",
    "\n",
    "df_edges[\"Timestamp\"] = format_timestamp(df_edges[\"Timestamp\"])\n",
    "df_edges[\"Received Currency\"] = df_edges['Receiving Currency'].apply(lambda x: get_dict_val(x, currency))\n",
    "df_edges[\"Sent Currency\"] = df_edges['Payment Currency'].apply(lambda x: get_dict_val(x, currency))\n",
    "df_edges[\"Payment Format\"] = df_edges['Payment Format'].apply(lambda x: get_dict_val(x, payment_format))\n",
    "df_edges[\"temp\"] = df_edges[\"From Bank\"].astype(str) + df_edges[\"Account\"].astype(str)\n",
    "df_edges[\"from_id\"] = df_edges[\"temp\"].apply(lambda x: get_dict_val(x, fromAccIdStr))\n",
    "df_edges[\"temp\"] = df_edges[\"To Bank\"].astype(str) + df_edges[\"Account.1\"].astype(str)\n",
    "df_edges[\"to_id\"] = df_edges[\"temp\"].apply(lambda x: get_dict_val(x, toAccIdStr))\n",
    "\n",
    "df_edges.reset_index(drop=True, inplace=True)\n",
    "df_edges[\"EdgeID\"] = df_edges.index\n",
    "\n",
    "df_edges.rename(columns={\"Amount Paid\":\"Amount Sent\"}, inplace=True)\n",
    "\n",
    "df_edges.drop(columns=[\"temp\", \"From Bank\", \"Account\",\n",
    "                       \"To Bank\", \"Account.1\", \"Receiving Currency\",\n",
    "                       \"Payment Currency\"], inplace=True)\n",
    "\n",
    "df_edges = df_edges.reindex(columns=[\"EdgeID\",\"from_id\",\"to_id\",\"Timestamp\",\n",
    "                                     \"Amount Sent\",\"Sent Currency\",\"Amount Received\",\n",
    "                                     \"Received Currency\",\"Payment Format\",\"Is Laundering\"])\n",
    "\n",
    "df_edges[\"Timestamp\"] = df_edges[\"Timestamp\"] - df_edges[\"Timestamp\"].min()\n",
    "df_edges = df_edges.sort_values(by=\"Timestamp\")"
   ]
  },
  {
   "cell_type": "code",
   "execution_count": 2,
   "metadata": {},
   "outputs": [
    {
     "data": {
      "text/html": [
       "<div>\n",
       "<style scoped>\n",
       "    .dataframe tbody tr th:only-of-type {\n",
       "        vertical-align: middle;\n",
       "    }\n",
       "\n",
       "    .dataframe tbody tr th {\n",
       "        vertical-align: top;\n",
       "    }\n",
       "\n",
       "    .dataframe thead th {\n",
       "        text-align: right;\n",
       "    }\n",
       "</style>\n",
       "<table border=\"1\" class=\"dataframe\">\n",
       "  <thead>\n",
       "    <tr style=\"text-align: right;\">\n",
       "      <th></th>\n",
       "      <th>EdgeID</th>\n",
       "      <th>from_id</th>\n",
       "      <th>to_id</th>\n",
       "      <th>Timestamp</th>\n",
       "      <th>Amount Sent</th>\n",
       "      <th>Sent Currency</th>\n",
       "      <th>Amount Received</th>\n",
       "      <th>Received Currency</th>\n",
       "      <th>Payment Format</th>\n",
       "      <th>Is Laundering</th>\n",
       "    </tr>\n",
       "  </thead>\n",
       "  <tbody>\n",
       "    <tr>\n",
       "      <th>316720</th>\n",
       "      <td>316720</td>\n",
       "      <td>236468</td>\n",
       "      <td>228822</td>\n",
       "      <td>0.0</td>\n",
       "      <td>4.764000e+01</td>\n",
       "      <td>13</td>\n",
       "      <td>4.764000e+01</td>\n",
       "      <td>13</td>\n",
       "      <td>0</td>\n",
       "      <td>0</td>\n",
       "    </tr>\n",
       "    <tr>\n",
       "      <th>261688</th>\n",
       "      <td>261688</td>\n",
       "      <td>195398</td>\n",
       "      <td>189349</td>\n",
       "      <td>0.0</td>\n",
       "      <td>3.917420e+03</td>\n",
       "      <td>10</td>\n",
       "      <td>3.917420e+03</td>\n",
       "      <td>10</td>\n",
       "      <td>0</td>\n",
       "      <td>0</td>\n",
       "    </tr>\n",
       "    <tr>\n",
       "      <th>261696</th>\n",
       "      <td>261696</td>\n",
       "      <td>195434</td>\n",
       "      <td>185780</td>\n",
       "      <td>0.0</td>\n",
       "      <td>9.749000e+01</td>\n",
       "      <td>10</td>\n",
       "      <td>9.749000e+01</td>\n",
       "      <td>10</td>\n",
       "      <td>2</td>\n",
       "      <td>0</td>\n",
       "    </tr>\n",
       "    <tr>\n",
       "      <th>126680</th>\n",
       "      <td>126680</td>\n",
       "      <td>94506</td>\n",
       "      <td>91981</td>\n",
       "      <td>0.0</td>\n",
       "      <td>1.393905e+04</td>\n",
       "      <td>2</td>\n",
       "      <td>1.393905e+04</td>\n",
       "      <td>2</td>\n",
       "      <td>5</td>\n",
       "      <td>0</td>\n",
       "    </tr>\n",
       "    <tr>\n",
       "      <th>126564</th>\n",
       "      <td>126564</td>\n",
       "      <td>94425</td>\n",
       "      <td>91897</td>\n",
       "      <td>0.0</td>\n",
       "      <td>1.037000e+01</td>\n",
       "      <td>2</td>\n",
       "      <td>1.037000e+01</td>\n",
       "      <td>2</td>\n",
       "      <td>0</td>\n",
       "      <td>0</td>\n",
       "    </tr>\n",
       "    <tr>\n",
       "      <th>126541</th>\n",
       "      <td>126541</td>\n",
       "      <td>94408</td>\n",
       "      <td>91880</td>\n",
       "      <td>0.0</td>\n",
       "      <td>6.667540e+03</td>\n",
       "      <td>2</td>\n",
       "      <td>6.667540e+03</td>\n",
       "      <td>2</td>\n",
       "      <td>0</td>\n",
       "      <td>0</td>\n",
       "    </tr>\n",
       "    <tr>\n",
       "      <th>323272</th>\n",
       "      <td>323272</td>\n",
       "      <td>241245</td>\n",
       "      <td>233501</td>\n",
       "      <td>0.0</td>\n",
       "      <td>1.058000e-03</td>\n",
       "      <td>1</td>\n",
       "      <td>1.058000e-03</td>\n",
       "      <td>1</td>\n",
       "      <td>6</td>\n",
       "      <td>0</td>\n",
       "    </tr>\n",
       "    <tr>\n",
       "      <th>126527</th>\n",
       "      <td>126527</td>\n",
       "      <td>94395</td>\n",
       "      <td>91867</td>\n",
       "      <td>0.0</td>\n",
       "      <td>2.578900e+02</td>\n",
       "      <td>2</td>\n",
       "      <td>2.578900e+02</td>\n",
       "      <td>2</td>\n",
       "      <td>2</td>\n",
       "      <td>0</td>\n",
       "    </tr>\n",
       "    <tr>\n",
       "      <th>126524</th>\n",
       "      <td>126524</td>\n",
       "      <td>94379</td>\n",
       "      <td>91851</td>\n",
       "      <td>0.0</td>\n",
       "      <td>1.094000e+01</td>\n",
       "      <td>2</td>\n",
       "      <td>1.094000e+01</td>\n",
       "      <td>2</td>\n",
       "      <td>0</td>\n",
       "      <td>0</td>\n",
       "    </tr>\n",
       "    <tr>\n",
       "      <th>126505</th>\n",
       "      <td>126505</td>\n",
       "      <td>94375</td>\n",
       "      <td>91847</td>\n",
       "      <td>0.0</td>\n",
       "      <td>1.186351e+06</td>\n",
       "      <td>2</td>\n",
       "      <td>1.186351e+06</td>\n",
       "      <td>2</td>\n",
       "      <td>0</td>\n",
       "      <td>0</td>\n",
       "    </tr>\n",
       "  </tbody>\n",
       "</table>\n",
       "</div>"
      ],
      "text/plain": [
       "        EdgeID  from_id   to_id  Timestamp   Amount Sent  Sent Currency  \\\n",
       "316720  316720   236468  228822        0.0  4.764000e+01             13   \n",
       "261688  261688   195398  189349        0.0  3.917420e+03             10   \n",
       "261696  261696   195434  185780        0.0  9.749000e+01             10   \n",
       "126680  126680    94506   91981        0.0  1.393905e+04              2   \n",
       "126564  126564    94425   91897        0.0  1.037000e+01              2   \n",
       "126541  126541    94408   91880        0.0  6.667540e+03              2   \n",
       "323272  323272   241245  233501        0.0  1.058000e-03              1   \n",
       "126527  126527    94395   91867        0.0  2.578900e+02              2   \n",
       "126524  126524    94379   91851        0.0  1.094000e+01              2   \n",
       "126505  126505    94375   91847        0.0  1.186351e+06              2   \n",
       "\n",
       "        Amount Received  Received Currency  Payment Format  Is Laundering  \n",
       "316720     4.764000e+01                 13               0              0  \n",
       "261688     3.917420e+03                 10               0              0  \n",
       "261696     9.749000e+01                 10               2              0  \n",
       "126680     1.393905e+04                  2               5              0  \n",
       "126564     1.037000e+01                  2               0              0  \n",
       "126541     6.667540e+03                  2               0              0  \n",
       "323272     1.058000e-03                  1               6              0  \n",
       "126527     2.578900e+02                  2               2              0  \n",
       "126524     1.094000e+01                  2               0              0  \n",
       "126505     1.186351e+06                  2               0              0  "
      ]
     },
     "execution_count": 2,
     "metadata": {},
     "output_type": "execute_result"
    }
   ],
   "source": [
    "df_edges[:10]"
   ]
  },
  {
   "cell_type": "markdown",
   "metadata": {},
   "source": [
    "Agora que já temos o DataFrame das arestas, vamos criar o DataFrame dos nós:"
   ]
  },
  {
   "cell_type": "code",
   "execution_count": 3,
   "metadata": {},
   "outputs": [],
   "source": [
    "import torch\n",
    "import numpy as np\n",
    "\n",
    "max_n_id = df_edges.loc[:, ['from_id', 'to_id']].to_numpy().max() + 1\n",
    "df_nodes = pd.DataFrame({'NodeID': np.arange(max_n_id), 'Feature': np.ones(max_n_id)})\n",
    "timestamps = torch.Tensor(df_edges['Timestamp'].to_numpy())\n",
    "y = torch.LongTensor(df_edges['Is Laundering'].to_numpy())\n",
    "\n",
    "edge_features = ['Timestamp', 'Amount Received', 'Received Currency', 'Payment Format']\n",
    "node_features = ['Feature']\n",
    "\n",
    "X = torch.tensor(df_nodes.loc[:, node_features].to_numpy()).float()\n",
    "edge_index = torch.LongTensor(df_edges.loc[:, ['from_id', 'to_id']].to_numpy().T)\n",
    "edge_attr = torch.tensor(df_edges.loc[:, edge_features].to_numpy()).float()\n",
    "\n",
    "n_days = int(timestamps.max() / (3600 * 24) + 1)\n",
    "n_samples = y.shape[0]"
   ]
  },
  {
   "cell_type": "markdown",
   "metadata": {},
   "source": [
    "Encontrando o ponto ótimo de separação do dataset, respeito o critério:\n",
    "* Treino: 60%\n",
    "* Validação: 20%\n",
    "* Teste: 20%"
   ]
  },
  {
   "cell_type": "code",
   "execution_count": 4,
   "metadata": {},
   "outputs": [],
   "source": [
    "import itertools\n",
    "\n",
    "#data splitting\n",
    "daily_irs, weighted_daily_irs, daily_inds, daily_trans = [], [], [], [] #irs = illicit_transactions\n",
    "\n",
    "for day in range(n_days):\n",
    "        l = day * 24 * 3600\n",
    "        r = (day + 1) * 24 * 3600\n",
    "        day_inds = torch.where((timestamps >= l) & (timestamps < r))[0]\n",
    "        daily_irs.append(y[day_inds].float().mean())\n",
    "        weighted_daily_irs.append(y[day_inds].float().mean() * day_inds.shape[0] / n_samples)\n",
    "        daily_inds.append(day_inds)\n",
    "        daily_trans.append(day_inds.shape[0])\n",
    "\n",
    "# Recommended split_percentages for train, validation and test. \n",
    "split_per = [0.6, 0.2, 0.2]\n",
    "daily_totals = np.array(daily_trans)\n",
    "d_ts = daily_totals\n",
    "I = list(range(len(d_ts)))\n",
    "split_scores = dict()\n",
    "\n",
    "# Iterates over all days combination ranges and stores the score at split_scores\n",
    "for i,j in itertools.combinations(I, 2):\n",
    "    if j >= i:\n",
    "        split_totals = [d_ts[:i].sum(), d_ts[i:j].sum(), d_ts[j:].sum()]\n",
    "        split_totals_sum = np.sum(split_totals)\n",
    "        split_props = [v/split_totals_sum for v in split_totals] # proportion of each split compared to the total transactions\n",
    "        split_error = [abs(v-t)/t for v,t in zip(split_props, split_per)] \n",
    "        score = max(split_error) #- (split_totals_sum/total) + 1\n",
    "        split_scores[(i,j)] = score\n",
    "    else:\n",
    "        continue\n",
    "i,j = min(split_scores, key=split_scores.get) # get the best i,j from split_scores\n",
    "\n",
    "# split contains a list for each split (train, validation and test) and each list contains the days that are part of the respective split\n",
    "split = [list(range(i)), list(range(i, j)), list(range(j, len(daily_totals)))]\n",
    "\n",
    "# seperate the transactions based on their indices in the timestamp array\n",
    "split_inds = {k: [] for k in range(3)}\n",
    "for i in range(3):\n",
    "    for day in split[i]:\n",
    "        split_inds[i].append(daily_inds[day]) #split_inds contains a list for each split (tr,val,te) which contains the indices of each day seperately\n",
    "\n",
    "tr_inds = torch.cat(split_inds[0])\n",
    "val_inds = torch.cat(split_inds[1])\n",
    "te_inds = torch.cat(split_inds[2])\n",
    "\n",
    "tr_x, val_x, te_x = X, X, X # sets the placeholder (ones) to the variables"
   ]
  },
  {
   "cell_type": "markdown",
   "metadata": {},
   "source": [
    "Viewing the output:"
   ]
  },
  {
   "cell_type": "code",
   "execution_count": 5,
   "metadata": {},
   "outputs": [
    {
     "name": "stdout",
     "output_type": "stream",
     "text": [
      "Total train samples: 63.98% || IR: 0.08% || Train days: [0, 1, 2, 3, 4, 5]\n",
      "Total val samples: 19.01% || IR: 0.11% || Val days: [6, 7]\n",
      "Total test samples: 17.01% || IR: 0.19% || Test days: [8, 9, 10, 11, 12, 13, 14, 15, 16, 17]\n"
     ]
    }
   ],
   "source": [
    "print(f\"Total train samples: {tr_inds.shape[0] / y.shape[0] * 100 :.2f}% || IR: \"\n",
    "        f\"{y[tr_inds].float().mean() * 100 :.2f}% || Train days: {split[0][:]}\")\n",
    "print(f\"Total val samples: {val_inds.shape[0] / y.shape[0] * 100 :.2f}% || IR: \"\n",
    "    f\"{y[val_inds].float().mean() * 100:.2f}% || Val days: {split[1][:]}\")\n",
    "print(f\"Total test samples: {te_inds.shape[0] / y.shape[0] * 100 :.2f}% || IR: \"\n",
    "    f\"{y[te_inds].float().mean() * 100:.2f}% || Test days: {split[2][:]}\")\n",
    "\n",
    "# IR stants for Illicit Ratio!"
   ]
  },
  {
   "cell_type": "code",
   "execution_count": 10,
   "metadata": {},
   "outputs": [
    {
     "data": {
      "text/plain": [
       "tensor([      0.,       0.,       0.,  ..., 1509480., 1515480., 1527480.])"
      ]
     },
     "execution_count": 10,
     "metadata": {},
     "output_type": "execute_result"
    }
   ],
   "source": [
    "timestamps"
   ]
  },
  {
   "cell_type": "code",
   "execution_count": 6,
   "metadata": {},
   "outputs": [],
   "source": [
    "e_tr = tr_inds.numpy() # Edge train array\n",
    "e_val = np.concatenate([tr_inds, val_inds]) # Edge validation (train + val) array\n",
    "\n",
    "# Train\n",
    "tr_edge_index, tr_edge_attr, tr_y, tr_edge_times = edge_index[:,e_tr],  edge_attr[e_tr],  y[e_tr],  timestamps[e_tr]\n",
    "\n",
    "# Validation (tr + val)\n",
    "val_edge_index, val_edge_attr, val_y, val_edge_times = edge_index[:,e_val], edge_attr[e_val], y[e_val], timestamps[e_val]\n",
    "\n",
    "# Test (tr + val + te)\n",
    "te_edge_index, te_edge_attr, te_y, te_edge_times = edge_index, edge_attr, y, timestamps"
   ]
  },
  {
   "cell_type": "code",
   "execution_count": 7,
   "metadata": {},
   "outputs": [],
   "source": [
    "import data_util\n",
    "\n",
    "tr_data = data_util.GraphData(x=tr_x, y=tr_y, edge_index=tr_edge_index, edge_attr=tr_edge_attr, timestamps=tr_edge_times)\n",
    "val_data = data_util.GraphData(x=val_x, y=val_y, edge_index=val_edge_index, edge_attr=val_edge_attr, timestamps=val_edge_times)\n",
    "te_data = data_util.GraphData(x=te_x, y=te_y, edge_index=te_edge_index, edge_attr=te_edge_attr, timestamps=te_edge_times)"
   ]
  },
  {
   "cell_type": "code",
   "execution_count": 25,
   "metadata": {},
   "outputs": [
    {
     "data": {
      "text/plain": [
       "tensor([      0,       1,       2,  ..., 3248918, 3248919, 3248920])"
      ]
     },
     "execution_count": 25,
     "metadata": {},
     "output_type": "execute_result"
    }
   ],
   "source": [
    "tr_inds"
   ]
  },
  {
   "cell_type": "code",
   "execution_count": 8,
   "metadata": {},
   "outputs": [
    {
     "data": {
      "text/plain": [
       "tensor([[0.0000e+00, 4.7640e+01, 1.3000e+01, 0.0000e+00],\n",
       "        [0.0000e+00, 3.9174e+03, 1.0000e+01, 0.0000e+00],\n",
       "        [0.0000e+00, 9.7490e+01, 1.0000e+01, 2.0000e+00],\n",
       "        ...,\n",
       "        [5.1834e+05, 4.1111e+02, 0.0000e+00, 1.0000e+00],\n",
       "        [5.1834e+05, 2.2221e+06, 9.0000e+00, 3.0000e+00],\n",
       "        [5.1834e+05, 1.3590e+01, 0.0000e+00, 2.0000e+00]])"
      ]
     },
     "execution_count": 8,
     "metadata": {},
     "output_type": "execute_result"
    }
   ],
   "source": [
    "tr_edge_attr"
   ]
  },
  {
   "cell_type": "code",
   "execution_count": 9,
   "metadata": {},
   "outputs": [
    {
     "data": {
      "text/plain": [
       "tensor([     0.,      0.,      0.,  ..., 518340., 518340., 518340.])"
      ]
     },
     "execution_count": 9,
     "metadata": {},
     "output_type": "execute_result"
    }
   ],
   "source": [
    "tr_edge_times"
   ]
  },
  {
   "cell_type": "code",
   "execution_count": null,
   "metadata": {},
   "outputs": [],
   "source": []
  }
 ],
 "metadata": {
  "kernelspec": {
   "display_name": "base",
   "language": "python",
   "name": "python3"
  },
  "language_info": {
   "codemirror_mode": {
    "name": "ipython",
    "version": 3
   },
   "file_extension": ".py",
   "mimetype": "text/x-python",
   "name": "python",
   "nbconvert_exporter": "python",
   "pygments_lexer": "ipython3",
   "version": "3.11.7"
  }
 },
 "nbformat": 4,
 "nbformat_minor": 2
}

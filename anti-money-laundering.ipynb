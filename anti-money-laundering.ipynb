{
 "cells": [
  {
   "cell_type": "markdown",
   "metadata": {},
   "source": [
    "# 1. Introduction:\n",
    "---\n",
    "\n",
    "Money laundering is a multi-billion dollar issue. Detection of laundering is very difficult. Most automated algorithms have a high false positive rate: legitimate transactions incorrectly flagged as laundering. The converse is also a major problem -- false negatives, i.e. undetected laundering transactions. Naturally, criminals work hard to cover their tracks.\n",
    "\n",
    "Access to real financial transaction data is highly restricted, for both proprietary and privacy reasons. Even when access is possible, it is problematic to provide a correct tag (laundering or legitimate) to each transaction, as noted above. \n",
    "\n",
    "In this project we are using a synthetic transaction dataset from IBM that avoids these problems (ALTMAN et al. 2023).\n",
    "\n",
    "\n",
    "**To check the paper that originated this synthetic dataset, [click here!](https://arxiv.org/abs/2306.16424)**\n",
    "\n",
    "The data provided here is based on a virtual world inhabited by individuals, companies, and banks. Individuals interact with other individuals and companies. Likewise, companies interact with other companies and with individuals. These interactions can take many forms, e.g. purchase of consumer goods and services, purchase orders for industrial supplies, payment of salaries, repayment of loans, and more. These financial transactions are generally conducted via banks, i.e. the payer and receiver both have accounts, with accounts taking multiple forms from checking to credit cards to bitcoin.\n",
    "\n",
    "Some (small) fraction of the individuals and companies in the generator model engage in criminal behavior -- such as smuggling, illegal gambling, extortion, and more. Criminals obtain funds from these illicit activities, and then try to hide the source of these illicit funds via a series of financial transactions. Such financial transactions to hide illicit funds constitute laundering. Thus, the data available here is labelled and can be used for training and testing AML (Anti Money Laundering) models and for other purposes.\n",
    "\n",
    "The data generator that created the data here not only models illicit activity, but also tracks funds derived from illicit activity through arbitrarily many transactions -- thus creating the ability to label laundering transactions many steps removed from their illicit source. With this foundation, it is straightforward for the generator to label individual transactions as laundering or legitimate.\n",
    "\n",
    "Note that this IBM generator models the entire money laundering cycle:\n",
    "\n",
    "*   **Placement**: Sources like smuggling of illicit funds.\n",
    "*   **Layering**: Mixing the illicit funds into the financial system.\n",
    "*   **Integration**: Spending the illicit funds.\n",
    "\n",
    "\n",
    "As another capability possible only with synthetic data, note that a real bank or other institution typically has access to only a portion of the transactions involved in laundering: the transactions involving that bank. Transactions happening at other banks or between other banks are not seen. Thus, models built on real transactions from one institution can have only a limited view of the world.\n",
    "\n",
    "By contrast these synthetic transactions contain an entire financial ecosystem. Thus it may be possible to create laundering detection models that undertand the broad sweep of transactions across institutions, but apply those models to make inferences only about transactions at a particular bank."
   ]
  },
  {
   "cell_type": "markdown",
   "metadata": {},
   "source": [
    "## 1.1. Importing Libraries\n",
    "---"
   ]
  },
  {
   "cell_type": "code",
   "execution_count": 13,
   "metadata": {},
   "outputs": [],
   "source": [
    "import pandas as pd\n",
    "import numpy as np\n",
    "import matplotlib.pyplot as plt\n",
    "import seaborn as sns\n",
    "import os\n",
    "import pathlib\n",
    "import zipfile\n",
    "\n",
    "\n",
    "from sklearn.pipeline import Pipeline\n",
    "from sklearn.impute import SimpleImputer\n",
    "from sklearn.preprocessing import RobustScaler, OrdinalEncoder\n",
    "from sklearn.compose import ColumnTransformer\n",
    "from sklearn.model_selection import GridSearchCV\n",
    "\n",
    "from sklearn.model_selection import train_test_split\n",
    "\n",
    "from sklearn.metrics import accuracy_score, f1_score, precision_score, recall_score, confusion_matrix, roc_auc_score, roc_curve\n",
    "from xgboost import XGBClassifier\n",
    "from sklearn.ensemble import RandomForestClassifier\n",
    "from sklearn.ensemble import ExtraTreesClassifier\n",
    "\n",
    "from sklearn.metrics import classification_report, confusion_matrix\n",
    "from imblearn.over_sampling import SMOTE\n",
    "from collections import Counter\n",
    "\n",
    "import warnings\n",
    "warnings.filterwarnings(\"ignore\")"
   ]
  },
  {
   "cell_type": "markdown",
   "metadata": {},
   "source": [
    "## 1.2. Verify if Data is Present\n",
    "---"
   ]
  },
  {
   "cell_type": "code",
   "execution_count": 14,
   "metadata": {},
   "outputs": [],
   "source": [
    "pathlib.Path(\"data\").mkdir(parents=True, exist_ok=True)\n",
    "PATH = str(pathlib.Path.cwd())\n",
    "file_path = pathlib.Path(\"data/HI-Large_Trans.csv\")\n",
    "\n",
    "if not file_path.is_file():\n",
    "    with zipfile.ZipFile(\"./data.zip\", 'r') as zf:\n",
    "        zf.extractall(\"./data/\")"
   ]
  },
  {
   "cell_type": "markdown",
   "metadata": {},
   "source": [
    "# 2. Exploratory Data Analisys (EDA)\n",
    "---"
   ]
  },
  {
   "cell_type": "markdown",
   "metadata": {},
   "source": [
    "## 2.1. Reading the HI-Small_Trans file"
   ]
  },
  {
   "cell_type": "code",
   "execution_count": 15,
   "metadata": {},
   "outputs": [
    {
     "data": {
      "text/plain": [
       "(5078345, 11)"
      ]
     },
     "execution_count": 15,
     "metadata": {},
     "output_type": "execute_result"
    }
   ],
   "source": [
    "import pandas as pd\n",
    "\n",
    "full_df = pd.read_csv(\"./data/HI-Small_Trans.csv\")\n",
    "\n",
    "full_df.shape"
   ]
  },
  {
   "cell_type": "markdown",
   "metadata": {},
   "source": [
    "### 2.1.1. Sampling a Portion of the Original DataFrame\n",
    "---"
   ]
  },
  {
   "cell_type": "code",
   "execution_count": 16,
   "metadata": {},
   "outputs": [
    {
     "data": {
      "text/plain": [
       "(500000, 11)"
      ]
     },
     "execution_count": 16,
     "metadata": {},
     "output_type": "execute_result"
    }
   ],
   "source": [
    "df = full_df.sample(n=500000, random_state=42)\n",
    "\n",
    "df.shape"
   ]
  },
  {
   "cell_type": "code",
   "execution_count": 17,
   "metadata": {},
   "outputs": [
    {
     "data": {
      "text/html": [
       "<div>\n",
       "<style scoped>\n",
       "    .dataframe tbody tr th:only-of-type {\n",
       "        vertical-align: middle;\n",
       "    }\n",
       "\n",
       "    .dataframe tbody tr th {\n",
       "        vertical-align: top;\n",
       "    }\n",
       "\n",
       "    .dataframe thead th {\n",
       "        text-align: right;\n",
       "    }\n",
       "</style>\n",
       "<table border=\"1\" class=\"dataframe\">\n",
       "  <thead>\n",
       "    <tr style=\"text-align: right;\">\n",
       "      <th></th>\n",
       "      <th>Timestamp</th>\n",
       "      <th>From Bank</th>\n",
       "      <th>Account</th>\n",
       "      <th>To Bank</th>\n",
       "      <th>Account.1</th>\n",
       "      <th>Amount Received</th>\n",
       "      <th>Receiving Currency</th>\n",
       "      <th>Amount Paid</th>\n",
       "      <th>Payment Currency</th>\n",
       "      <th>Payment Format</th>\n",
       "      <th>Is Laundering</th>\n",
       "    </tr>\n",
       "  </thead>\n",
       "  <tbody>\n",
       "    <tr>\n",
       "      <th>298872</th>\n",
       "      <td>2022/09/01 00:29</td>\n",
       "      <td>117</td>\n",
       "      <td>80E50C3C0</td>\n",
       "      <td>40653</td>\n",
       "      <td>80FA8F490</td>\n",
       "      <td>4981.60</td>\n",
       "      <td>Swiss Franc</td>\n",
       "      <td>4981.60</td>\n",
       "      <td>Swiss Franc</td>\n",
       "      <td>Cheque</td>\n",
       "      <td>0</td>\n",
       "    </tr>\n",
       "    <tr>\n",
       "      <th>746726</th>\n",
       "      <td>2022/09/01 13:28</td>\n",
       "      <td>10</td>\n",
       "      <td>8001C6CC0</td>\n",
       "      <td>22828</td>\n",
       "      <td>8010A7DF0</td>\n",
       "      <td>297.72</td>\n",
       "      <td>US Dollar</td>\n",
       "      <td>297.72</td>\n",
       "      <td>US Dollar</td>\n",
       "      <td>Cheque</td>\n",
       "      <td>0</td>\n",
       "    </tr>\n",
       "    <tr>\n",
       "      <th>405190</th>\n",
       "      <td>2022/09/01 02:46</td>\n",
       "      <td>29191</td>\n",
       "      <td>80CAF3CE0</td>\n",
       "      <td>29191</td>\n",
       "      <td>80CAF3CE0</td>\n",
       "      <td>32.90</td>\n",
       "      <td>Yuan</td>\n",
       "      <td>32.90</td>\n",
       "      <td>Yuan</td>\n",
       "      <td>Reinvestment</td>\n",
       "      <td>0</td>\n",
       "    </tr>\n",
       "    <tr>\n",
       "      <th>1388703</th>\n",
       "      <td>2022/09/02 08:02</td>\n",
       "      <td>10</td>\n",
       "      <td>804DC2C20</td>\n",
       "      <td>14381</td>\n",
       "      <td>80597A020</td>\n",
       "      <td>194634.45</td>\n",
       "      <td>Rupee</td>\n",
       "      <td>194634.45</td>\n",
       "      <td>Rupee</td>\n",
       "      <td>Cheque</td>\n",
       "      <td>0</td>\n",
       "    </tr>\n",
       "    <tr>\n",
       "      <th>4713645</th>\n",
       "      <td>2022/09/09 18:01</td>\n",
       "      <td>16136</td>\n",
       "      <td>80A5EC8A0</td>\n",
       "      <td>16031</td>\n",
       "      <td>80C038E30</td>\n",
       "      <td>698940.91</td>\n",
       "      <td>US Dollar</td>\n",
       "      <td>698940.91</td>\n",
       "      <td>US Dollar</td>\n",
       "      <td>ACH</td>\n",
       "      <td>0</td>\n",
       "    </tr>\n",
       "  </tbody>\n",
       "</table>\n",
       "</div>"
      ],
      "text/plain": [
       "                Timestamp  From Bank    Account  To Bank  Account.1  \\\n",
       "298872   2022/09/01 00:29        117  80E50C3C0    40653  80FA8F490   \n",
       "746726   2022/09/01 13:28         10  8001C6CC0    22828  8010A7DF0   \n",
       "405190   2022/09/01 02:46      29191  80CAF3CE0    29191  80CAF3CE0   \n",
       "1388703  2022/09/02 08:02         10  804DC2C20    14381  80597A020   \n",
       "4713645  2022/09/09 18:01      16136  80A5EC8A0    16031  80C038E30   \n",
       "\n",
       "         Amount Received Receiving Currency  Amount Paid Payment Currency  \\\n",
       "298872           4981.60        Swiss Franc      4981.60      Swiss Franc   \n",
       "746726            297.72          US Dollar       297.72        US Dollar   \n",
       "405190             32.90               Yuan        32.90             Yuan   \n",
       "1388703        194634.45              Rupee    194634.45            Rupee   \n",
       "4713645        698940.91          US Dollar    698940.91        US Dollar   \n",
       "\n",
       "        Payment Format  Is Laundering  \n",
       "298872          Cheque              0  \n",
       "746726          Cheque              0  \n",
       "405190    Reinvestment              0  \n",
       "1388703         Cheque              0  \n",
       "4713645            ACH              0  "
      ]
     },
     "execution_count": 17,
     "metadata": {},
     "output_type": "execute_result"
    }
   ],
   "source": [
    "df.head()"
   ]
  },
  {
   "cell_type": "markdown",
   "metadata": {},
   "source": [
    "### 2.1.2. About the Features\n",
    "---"
   ]
  },
  {
   "cell_type": "code",
   "execution_count": 18,
   "metadata": {},
   "outputs": [
    {
     "name": "stdout",
     "output_type": "stream",
     "text": [
      "<class 'pandas.core.frame.DataFrame'>\n",
      "Index: 500000 entries, 298872 to 3845689\n",
      "Data columns (total 11 columns):\n",
      " #   Column              Non-Null Count   Dtype  \n",
      "---  ------              --------------   -----  \n",
      " 0   Timestamp           500000 non-null  object \n",
      " 1   From Bank           500000 non-null  int64  \n",
      " 2   Account             500000 non-null  object \n",
      " 3   To Bank             500000 non-null  int64  \n",
      " 4   Account.1           500000 non-null  object \n",
      " 5   Amount Received     500000 non-null  float64\n",
      " 6   Receiving Currency  500000 non-null  object \n",
      " 7   Amount Paid         500000 non-null  float64\n",
      " 8   Payment Currency    500000 non-null  object \n",
      " 9   Payment Format      500000 non-null  object \n",
      " 10  Is Laundering       500000 non-null  int64  \n",
      "dtypes: float64(2), int64(3), object(6)\n",
      "memory usage: 45.8+ MB\n"
     ]
    }
   ],
   "source": [
    "df.info()"
   ]
  },
  {
   "cell_type": "markdown",
   "metadata": {},
   "source": [
    "## 2.2. Basic Statistic in the Numerical Features\n",
    "---"
   ]
  },
  {
   "cell_type": "code",
   "execution_count": 19,
   "metadata": {},
   "outputs": [
    {
     "data": {
      "text/html": [
       "<div>\n",
       "<style scoped>\n",
       "    .dataframe tbody tr th:only-of-type {\n",
       "        vertical-align: middle;\n",
       "    }\n",
       "\n",
       "    .dataframe tbody tr th {\n",
       "        vertical-align: top;\n",
       "    }\n",
       "\n",
       "    .dataframe thead th {\n",
       "        text-align: right;\n",
       "    }\n",
       "</style>\n",
       "<table border=\"1\" class=\"dataframe\">\n",
       "  <thead>\n",
       "    <tr style=\"text-align: right;\">\n",
       "      <th></th>\n",
       "      <th>From Bank</th>\n",
       "      <th>To Bank</th>\n",
       "      <th>Amount Received</th>\n",
       "      <th>Amount Paid</th>\n",
       "      <th>Is Laundering</th>\n",
       "    </tr>\n",
       "  </thead>\n",
       "  <tbody>\n",
       "    <tr>\n",
       "      <th>count</th>\n",
       "      <td>500000.000000</td>\n",
       "      <td>500000.000000</td>\n",
       "      <td>5.000000e+05</td>\n",
       "      <td>5.000000e+05</td>\n",
       "      <td>500000.000000</td>\n",
       "    </tr>\n",
       "    <tr>\n",
       "      <th>mean</th>\n",
       "      <td>45818.821910</td>\n",
       "      <td>65842.322062</td>\n",
       "      <td>8.728360e+06</td>\n",
       "      <td>4.127212e+06</td>\n",
       "      <td>0.001038</td>\n",
       "    </tr>\n",
       "    <tr>\n",
       "      <th>std</th>\n",
       "      <td>81937.835213</td>\n",
       "      <td>84214.998216</td>\n",
       "      <td>1.554638e+09</td>\n",
       "      <td>4.189054e+08</td>\n",
       "      <td>0.032201</td>\n",
       "    </tr>\n",
       "    <tr>\n",
       "      <th>min</th>\n",
       "      <td>1.000000</td>\n",
       "      <td>1.000000</td>\n",
       "      <td>1.000000e-06</td>\n",
       "      <td>1.000000e-06</td>\n",
       "      <td>0.000000</td>\n",
       "    </tr>\n",
       "    <tr>\n",
       "      <th>25%</th>\n",
       "      <td>119.000000</td>\n",
       "      <td>4403.000000</td>\n",
       "      <td>1.823700e+02</td>\n",
       "      <td>1.835675e+02</td>\n",
       "      <td>0.000000</td>\n",
       "    </tr>\n",
       "    <tr>\n",
       "      <th>50%</th>\n",
       "      <td>9679.000000</td>\n",
       "      <td>21575.000000</td>\n",
       "      <td>1.418135e+03</td>\n",
       "      <td>1.422620e+03</td>\n",
       "      <td>0.000000</td>\n",
       "    </tr>\n",
       "    <tr>\n",
       "      <th>75%</th>\n",
       "      <td>28663.000000</td>\n",
       "      <td>122332.000000</td>\n",
       "      <td>1.232478e+04</td>\n",
       "      <td>1.228681e+04</td>\n",
       "      <td>0.000000</td>\n",
       "    </tr>\n",
       "    <tr>\n",
       "      <th>max</th>\n",
       "      <td>356302.000000</td>\n",
       "      <td>356266.000000</td>\n",
       "      <td>6.260355e+11</td>\n",
       "      <td>1.402124e+11</td>\n",
       "      <td>1.000000</td>\n",
       "    </tr>\n",
       "  </tbody>\n",
       "</table>\n",
       "</div>"
      ],
      "text/plain": [
       "           From Bank        To Bank  Amount Received   Amount Paid  \\\n",
       "count  500000.000000  500000.000000     5.000000e+05  5.000000e+05   \n",
       "mean    45818.821910   65842.322062     8.728360e+06  4.127212e+06   \n",
       "std     81937.835213   84214.998216     1.554638e+09  4.189054e+08   \n",
       "min         1.000000       1.000000     1.000000e-06  1.000000e-06   \n",
       "25%       119.000000    4403.000000     1.823700e+02  1.835675e+02   \n",
       "50%      9679.000000   21575.000000     1.418135e+03  1.422620e+03   \n",
       "75%     28663.000000  122332.000000     1.232478e+04  1.228681e+04   \n",
       "max    356302.000000  356266.000000     6.260355e+11  1.402124e+11   \n",
       "\n",
       "       Is Laundering  \n",
       "count  500000.000000  \n",
       "mean        0.001038  \n",
       "std         0.032201  \n",
       "min         0.000000  \n",
       "25%         0.000000  \n",
       "50%         0.000000  \n",
       "75%         0.000000  \n",
       "max         1.000000  "
      ]
     },
     "execution_count": 19,
     "metadata": {},
     "output_type": "execute_result"
    }
   ],
   "source": [
    "df.select_dtypes(exclude='object').describe()"
   ]
  },
  {
   "cell_type": "code",
   "execution_count": null,
   "metadata": {},
   "outputs": [],
   "source": []
  },
  {
   "cell_type": "code",
   "execution_count": 20,
   "metadata": {},
   "outputs": [],
   "source": [
    "def feature_values_changer(col, zero, one):\n",
    "    for i in range(col.shape[0]):\n",
    "        if col.values[i] == zero:\n",
    "            col.values[i] = 0\n",
    "        elif col.values[i] == one:\n",
    "            col.values[i] = 1\n",
    "        else:\n",
    "            col.values[i] = 2\n",
    "    \n",
    "    return col"
   ]
  },
  {
   "cell_type": "markdown",
   "metadata": {},
   "source": [
    "Reading the HI-Large_Trans.csv, 1000000 rows each time, isolating only 'Is Laundering' == 1 "
   ]
  },
  {
   "cell_type": "code",
   "execution_count": 21,
   "metadata": {},
   "outputs": [
    {
     "name": "stdout",
     "output_type": "stream",
     "text": [
      "5.56% complete\n",
      "11.11% complete\n",
      "16.67% complete\n",
      "22.22% complete\n",
      "27.78% complete\n",
      "33.33% complete\n",
      "38.89% complete\n",
      "44.44% complete\n",
      "50.00% complete\n",
      "55.56% complete\n",
      "61.11% complete\n",
      "66.67% complete\n",
      "72.22% complete\n",
      "77.78% complete\n",
      "83.33% complete\n",
      "88.89% complete\n",
      "94.44% complete\n",
      "100.00% complete\n"
     ]
    }
   ],
   "source": [
    "dfs = []\n",
    "count = 1\n",
    "for df in pd.read_csv('./data/HI-Large_Trans.csv', chunksize=1000000):\n",
    "    df = df[df['Is Laundering'] == 1]\n",
    "    \n",
    "    del df['Timestamp']\n",
    "    dfs.append(df)\n",
    "    \n",
    "    if count % 10 == 0:\n",
    "        print(f\"{(count / 180)*100:.2f}% complete\")\n",
    "    count += 1"
   ]
  },
  {
   "cell_type": "code",
   "execution_count": null,
   "metadata": {},
   "outputs": [],
   "source": [
    "df_full_1 = pd.concat(dfs)\n",
    "del dfs\n",
    "\n",
    "ones_count = df_full_1.shape[0]\n",
    "print(\"Number of rows with 'Is Laundering' == 1:\", ones_count)"
   ]
  },
  {
   "cell_type": "markdown",
   "metadata": {},
   "source": [
    "Reading the HI-Large_Trans.csv, 1000000 rows each time, isolating only 'Is Laundering' == 0, until it becames 1:1 ratio with 'Is Laundering' == 1"
   ]
  },
  {
   "cell_type": "code",
   "execution_count": 37,
   "metadata": {},
   "outputs": [],
   "source": [
    "dfs = []\n",
    "current = 0\n",
    "for df in pd.read_csv('./data/HI-Large_Trans.csv', chunksize=15000):\n",
    "    df = df[df['Is Laundering'] == 0]\n",
    "    current += df.shape[0]\n",
    "    \n",
    "    del df['Timestamp']\n",
    "    dfs.append(df)\n",
    "\n",
    "    if current >= ones_count:\n",
    "        break"
   ]
  },
  {
   "cell_type": "code",
   "execution_count": 39,
   "metadata": {},
   "outputs": [
    {
     "name": "stdout",
     "output_type": "stream",
     "text": [
      "Number of rows with 'Is Laundering' == 0: 239971\n"
     ]
    }
   ],
   "source": [
    "df_full_0 = pd.concat(dfs)\n",
    "df_full = pd.concat([df_full_0, df_full_1])\n",
    "del dfs\n",
    "\n",
    "zeros_count = df_full_0.shape[0]\n",
    "print(\"Number of rows with 'Is Laundering' == 0:\", zeros_count)"
   ]
  },
  {
   "cell_type": "code",
   "execution_count": 42,
   "metadata": {},
   "outputs": [
    {
     "data": {
      "text/html": [
       "<div>\n",
       "<style scoped>\n",
       "    .dataframe tbody tr th:only-of-type {\n",
       "        vertical-align: middle;\n",
       "    }\n",
       "\n",
       "    .dataframe tbody tr th {\n",
       "        vertical-align: top;\n",
       "    }\n",
       "\n",
       "    .dataframe thead th {\n",
       "        text-align: right;\n",
       "    }\n",
       "</style>\n",
       "<table border=\"1\" class=\"dataframe\">\n",
       "  <thead>\n",
       "    <tr style=\"text-align: right;\">\n",
       "      <th></th>\n",
       "      <th>From Bank</th>\n",
       "      <th>Account</th>\n",
       "      <th>To Bank</th>\n",
       "      <th>Account.1</th>\n",
       "      <th>Amount Received</th>\n",
       "      <th>Receiving Currency</th>\n",
       "      <th>Amount Paid</th>\n",
       "      <th>Payment Currency</th>\n",
       "      <th>Payment Format</th>\n",
       "      <th>Is Laundering</th>\n",
       "    </tr>\n",
       "  </thead>\n",
       "  <tbody>\n",
       "    <tr>\n",
       "      <th>0</th>\n",
       "      <td>20</td>\n",
       "      <td>800104D70</td>\n",
       "      <td>20</td>\n",
       "      <td>800104D70</td>\n",
       "      <td>6794.63</td>\n",
       "      <td>US Dollar</td>\n",
       "      <td>6794.63</td>\n",
       "      <td>US Dollar</td>\n",
       "      <td>Reinvestment</td>\n",
       "      <td>0</td>\n",
       "    </tr>\n",
       "    <tr>\n",
       "      <th>1</th>\n",
       "      <td>3196</td>\n",
       "      <td>800107150</td>\n",
       "      <td>3196</td>\n",
       "      <td>800107150</td>\n",
       "      <td>7739.29</td>\n",
       "      <td>US Dollar</td>\n",
       "      <td>7739.29</td>\n",
       "      <td>US Dollar</td>\n",
       "      <td>Reinvestment</td>\n",
       "      <td>0</td>\n",
       "    </tr>\n",
       "    <tr>\n",
       "      <th>2</th>\n",
       "      <td>1208</td>\n",
       "      <td>80010E430</td>\n",
       "      <td>1208</td>\n",
       "      <td>80010E430</td>\n",
       "      <td>1880.23</td>\n",
       "      <td>US Dollar</td>\n",
       "      <td>1880.23</td>\n",
       "      <td>US Dollar</td>\n",
       "      <td>Reinvestment</td>\n",
       "      <td>0</td>\n",
       "    </tr>\n",
       "    <tr>\n",
       "      <th>3</th>\n",
       "      <td>1208</td>\n",
       "      <td>80010E650</td>\n",
       "      <td>20</td>\n",
       "      <td>80010E6F0</td>\n",
       "      <td>73966883.00</td>\n",
       "      <td>US Dollar</td>\n",
       "      <td>73966883.00</td>\n",
       "      <td>US Dollar</td>\n",
       "      <td>Cheque</td>\n",
       "      <td>0</td>\n",
       "    </tr>\n",
       "    <tr>\n",
       "      <th>4</th>\n",
       "      <td>1208</td>\n",
       "      <td>80010E650</td>\n",
       "      <td>20</td>\n",
       "      <td>80010EA30</td>\n",
       "      <td>45868454.00</td>\n",
       "      <td>US Dollar</td>\n",
       "      <td>45868454.00</td>\n",
       "      <td>US Dollar</td>\n",
       "      <td>Cheque</td>\n",
       "      <td>0</td>\n",
       "    </tr>\n",
       "  </tbody>\n",
       "</table>\n",
       "</div>"
      ],
      "text/plain": [
       "   From Bank    Account  To Bank  Account.1  Amount Received  \\\n",
       "0         20  800104D70       20  800104D70          6794.63   \n",
       "1       3196  800107150     3196  800107150          7739.29   \n",
       "2       1208  80010E430     1208  80010E430          1880.23   \n",
       "3       1208  80010E650       20  80010E6F0      73966883.00   \n",
       "4       1208  80010E650       20  80010EA30      45868454.00   \n",
       "\n",
       "  Receiving Currency  Amount Paid Payment Currency Payment Format  \\\n",
       "0          US Dollar      6794.63        US Dollar   Reinvestment   \n",
       "1          US Dollar      7739.29        US Dollar   Reinvestment   \n",
       "2          US Dollar      1880.23        US Dollar   Reinvestment   \n",
       "3          US Dollar  73966883.00        US Dollar         Cheque   \n",
       "4          US Dollar  45868454.00        US Dollar         Cheque   \n",
       "\n",
       "   Is Laundering  \n",
       "0              0  \n",
       "1              0  \n",
       "2              0  \n",
       "3              0  \n",
       "4              0  "
      ]
     },
     "execution_count": 42,
     "metadata": {},
     "output_type": "execute_result"
    }
   ],
   "source": [
    "df_full.head()"
   ]
  },
  {
   "cell_type": "code",
   "execution_count": 43,
   "metadata": {},
   "outputs": [
    {
     "name": "stdout",
     "output_type": "stream",
     "text": [
      "<class 'pandas.core.frame.DataFrame'>\n",
      "Index: 465517 entries, 0 to 179701890\n",
      "Data columns (total 10 columns):\n",
      " #   Column              Non-Null Count   Dtype  \n",
      "---  ------              --------------   -----  \n",
      " 0   From Bank           465517 non-null  int64  \n",
      " 1   Account             465517 non-null  object \n",
      " 2   To Bank             465517 non-null  int64  \n",
      " 3   Account.1           465517 non-null  object \n",
      " 4   Amount Received     465517 non-null  float64\n",
      " 5   Receiving Currency  465517 non-null  object \n",
      " 6   Amount Paid         465517 non-null  float64\n",
      " 7   Payment Currency    465517 non-null  object \n",
      " 8   Payment Format      465517 non-null  object \n",
      " 9   Is Laundering       465517 non-null  int64  \n",
      "dtypes: float64(2), int64(3), object(5)\n",
      "memory usage: 39.1+ MB\n"
     ]
    }
   ],
   "source": [
    "df_full.info()"
   ]
  },
  {
   "cell_type": "code",
   "execution_count": 53,
   "metadata": {},
   "outputs": [
    {
     "name": "stdout",
     "output_type": "stream",
     "text": [
      "Unique values for feature:\n"
     ]
    },
    {
     "data": {
      "text/plain": [
       "{'From Bank': 15282,\n",
       " 'Account': 284350,\n",
       " 'To Bank': 13678,\n",
       " 'Account.1': 302143,\n",
       " 'Amount Received': 352968,\n",
       " 'Receiving Currency': 15,\n",
       " 'Amount Paid': 353500,\n",
       " 'Payment Currency': 15,\n",
       " 'Payment Format': 7,\n",
       " 'Is Laundering': 2}"
      ]
     },
     "execution_count": 53,
     "metadata": {},
     "output_type": "execute_result"
    }
   ],
   "source": [
    "print(\"Unique values for feature:\")\n",
    "{feature:len(df_full[feature].unique()) for feature in df_full.columns}"
   ]
  },
  {
   "cell_type": "code",
   "execution_count": 55,
   "metadata": {},
   "outputs": [
    {
     "data": {
      "text/html": [
       "<div>\n",
       "<style scoped>\n",
       "    .dataframe tbody tr th:only-of-type {\n",
       "        vertical-align: middle;\n",
       "    }\n",
       "\n",
       "    .dataframe tbody tr th {\n",
       "        vertical-align: top;\n",
       "    }\n",
       "\n",
       "    .dataframe thead th {\n",
       "        text-align: right;\n",
       "    }\n",
       "</style>\n",
       "<table border=\"1\" class=\"dataframe\">\n",
       "  <thead>\n",
       "    <tr style=\"text-align: right;\">\n",
       "      <th></th>\n",
       "      <th>From Bank</th>\n",
       "      <th>To Bank</th>\n",
       "      <th>Amount Received</th>\n",
       "      <th>Amount Paid</th>\n",
       "      <th>Is Laundering</th>\n",
       "    </tr>\n",
       "  </thead>\n",
       "  <tbody>\n",
       "    <tr>\n",
       "      <th>count</th>\n",
       "      <td>4.655170e+05</td>\n",
       "      <td>4.655170e+05</td>\n",
       "      <td>4.655170e+05</td>\n",
       "      <td>4.655170e+05</td>\n",
       "      <td>465517.000000</td>\n",
       "    </tr>\n",
       "    <tr>\n",
       "      <th>mean</th>\n",
       "      <td>1.284271e+05</td>\n",
       "      <td>1.562142e+05</td>\n",
       "      <td>3.294781e+07</td>\n",
       "      <td>3.294666e+07</td>\n",
       "      <td>0.484506</td>\n",
       "    </tr>\n",
       "    <tr>\n",
       "      <th>std</th>\n",
       "      <td>2.899531e+05</td>\n",
       "      <td>3.371528e+05</td>\n",
       "      <td>8.072156e+09</td>\n",
       "      <td>8.072156e+09</td>\n",
       "      <td>0.499760</td>\n",
       "    </tr>\n",
       "    <tr>\n",
       "      <th>min</th>\n",
       "      <td>0.000000e+00</td>\n",
       "      <td>0.000000e+00</td>\n",
       "      <td>1.000000e-06</td>\n",
       "      <td>1.000000e-06</td>\n",
       "      <td>0.000000</td>\n",
       "    </tr>\n",
       "    <tr>\n",
       "      <th>25%</th>\n",
       "      <td>7.770000e+03</td>\n",
       "      <td>1.289300e+04</td>\n",
       "      <td>5.631500e+02</td>\n",
       "      <td>5.636300e+02</td>\n",
       "      <td>0.000000</td>\n",
       "    </tr>\n",
       "    <tr>\n",
       "      <th>50%</th>\n",
       "      <td>2.821900e+04</td>\n",
       "      <td>4.293500e+04</td>\n",
       "      <td>5.364380e+03</td>\n",
       "      <td>5.368860e+03</td>\n",
       "      <td>0.000000</td>\n",
       "    </tr>\n",
       "    <tr>\n",
       "      <th>75%</th>\n",
       "      <td>1.697550e+05</td>\n",
       "      <td>2.019980e+05</td>\n",
       "      <td>1.896105e+04</td>\n",
       "      <td>1.896646e+04</td>\n",
       "      <td>1.000000</td>\n",
       "    </tr>\n",
       "    <tr>\n",
       "      <th>max</th>\n",
       "      <td>3.206865e+06</td>\n",
       "      <td>3.104029e+06</td>\n",
       "      <td>5.257959e+12</td>\n",
       "      <td>5.257959e+12</td>\n",
       "      <td>1.000000</td>\n",
       "    </tr>\n",
       "  </tbody>\n",
       "</table>\n",
       "</div>"
      ],
      "text/plain": [
       "          From Bank       To Bank  Amount Received   Amount Paid  \\\n",
       "count  4.655170e+05  4.655170e+05     4.655170e+05  4.655170e+05   \n",
       "mean   1.284271e+05  1.562142e+05     3.294781e+07  3.294666e+07   \n",
       "std    2.899531e+05  3.371528e+05     8.072156e+09  8.072156e+09   \n",
       "min    0.000000e+00  0.000000e+00     1.000000e-06  1.000000e-06   \n",
       "25%    7.770000e+03  1.289300e+04     5.631500e+02  5.636300e+02   \n",
       "50%    2.821900e+04  4.293500e+04     5.364380e+03  5.368860e+03   \n",
       "75%    1.697550e+05  2.019980e+05     1.896105e+04  1.896646e+04   \n",
       "max    3.206865e+06  3.104029e+06     5.257959e+12  5.257959e+12   \n",
       "\n",
       "       Is Laundering  \n",
       "count  465517.000000  \n",
       "mean        0.484506  \n",
       "std         0.499760  \n",
       "min         0.000000  \n",
       "25%         0.000000  \n",
       "50%         0.000000  \n",
       "75%         1.000000  \n",
       "max         1.000000  "
      ]
     },
     "execution_count": 55,
     "metadata": {},
     "output_type": "execute_result"
    }
   ],
   "source": [
    "df_full.describe()"
   ]
  },
  {
   "cell_type": "code",
   "execution_count": 56,
   "metadata": {},
   "outputs": [
    {
     "data": {
      "text/plain": [
       "Is Laundering\n",
       "0    239971\n",
       "1    225546\n",
       "Name: count, dtype: int64"
      ]
     },
     "execution_count": 56,
     "metadata": {},
     "output_type": "execute_result"
    }
   ],
   "source": [
    "df_full[\"Is Laundering\"].value_counts()"
   ]
  },
  {
   "cell_type": "code",
   "execution_count": null,
   "metadata": {},
   "outputs": [],
   "source": []
  }
 ],
 "metadata": {
  "kernelspec": {
   "display_name": "base",
   "language": "python",
   "name": "python3"
  },
  "language_info": {
   "codemirror_mode": {
    "name": "ipython",
    "version": 3
   },
   "file_extension": ".py",
   "mimetype": "text/x-python",
   "name": "python",
   "nbconvert_exporter": "python",
   "pygments_lexer": "ipython3",
   "version": "3.11.7"
  }
 },
 "nbformat": 4,
 "nbformat_minor": 2
}

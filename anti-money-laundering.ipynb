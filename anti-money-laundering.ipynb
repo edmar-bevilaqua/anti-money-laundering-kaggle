{
 "cells": [
  {
   "cell_type": "markdown",
   "metadata": {},
   "source": [
    "# 1. Introduction:\n",
    "---\n",
    "\n",
    "Money laundering is a multi-billion dollar issue. Detection of laundering is very difficult. Most automated algorithms have a high false positive rate: legitimate transactions incorrectly flagged as laundering. The converse is also a major problem -- false negatives, i.e. undetected laundering transactions. Naturally, criminals work hard to cover their tracks.\n",
    "\n",
    "Access to real financial transaction data is highly restricted, for both proprietary and privacy reasons. Even when access is possible, it is problematic to provide a correct tag (laundering or legitimate) to each transaction, as noted above. \n",
    "\n",
    "In this project we are using a synthetic transaction dataset from IBM that avoids these problems (ALTMAN et al. 2023).\n",
    "\n",
    "\n",
    "**To check the paper that originated this synthetic dataset, [click here!](https://arxiv.org/abs/2306.16424)**\n",
    "\n",
    "The data provided here is based on a virtual world inhabited by individuals, companies, and banks. Individuals interact with other individuals and companies. Likewise, companies interact with other companies and with individuals. These interactions can take many forms, e.g. purchase of consumer goods and services, purchase orders for industrial supplies, payment of salaries, repayment of loans, and more. These financial transactions are generally conducted via banks, i.e. the payer and receiver both have accounts, with accounts taking multiple forms from checking to credit cards to bitcoin.\n",
    "\n",
    "Some (small) fraction of the individuals and companies in the generator model engage in criminal behavior -- such as smuggling, illegal gambling, extortion, and more. Criminals obtain funds from these illicit activities, and then try to hide the source of these illicit funds via a series of financial transactions. Such financial transactions to hide illicit funds constitute laundering. Thus, the data available here is labelled and can be used for training and testing AML (Anti Money Laundering) models and for other purposes.\n",
    "\n",
    "The data generator that created the data here not only models illicit activity, but also tracks funds derived from illicit activity through arbitrarily many transactions -- thus creating the ability to label laundering transactions many steps removed from their illicit source. With this foundation, it is straightforward for the generator to label individual transactions as laundering or legitimate.\n",
    "\n",
    "Note that this IBM generator models the entire money laundering cycle:\n",
    "\n",
    "*   **Placement**: Sources like smuggling of illicit funds.\n",
    "*   **Layering**: Mixing the illicit funds into the financial system.\n",
    "*   **Integration**: Spending the illicit funds.\n",
    "\n",
    "\n",
    "As another capability possible only with synthetic data, note that a real bank or other institution typically has access to only a portion of the transactions involved in laundering: the transactions involving that bank. Transactions happening at other banks or between other banks are not seen. Thus, models built on real transactions from one institution can have only a limited view of the world.\n",
    "\n",
    "By contrast these synthetic transactions contain an entire financial ecosystem. Thus it may be possible to create laundering detection models that undertand the broad sweep of transactions across institutions, but apply those models to make inferences only about transactions at a particular bank."
   ]
  },
  {
   "cell_type": "markdown",
   "metadata": {},
   "source": [
    "## 1.1. Importing Libraries\n",
    "---"
   ]
  },
  {
   "cell_type": "code",
   "execution_count": 6,
   "metadata": {},
   "outputs": [],
   "source": [
    "import pandas as pd\n",
    "import numpy as np\n",
    "import matplotlib.pyplot as plt\n",
    "import seaborn as sns\n",
    "import os\n",
    "import pathlib\n",
    "import zipfile\n",
    "\n",
    "\n",
    "from sklearn.pipeline import Pipeline\n",
    "from sklearn.impute import SimpleImputer\n",
    "from sklearn.preprocessing import RobustScaler, OrdinalEncoder\n",
    "from sklearn.compose import ColumnTransformer\n",
    "from sklearn.model_selection import GridSearchCV\n",
    "\n",
    "from sklearn.model_selection import train_test_split\n",
    "\n",
    "from sklearn.metrics import accuracy_score, f1_score, precision_score, recall_score, confusion_matrix, roc_auc_score, roc_curve\n",
    "from xgboost import XGBClassifier\n",
    "from sklearn.ensemble import RandomForestClassifier\n",
    "from sklearn.ensemble import ExtraTreesClassifier\n",
    "\n",
    "from sklearn.metrics import classification_report, confusion_matrix\n",
    "from imblearn.over_sampling import SMOTE\n",
    "from collections import Counter\n",
    "\n",
    "import warnings\n",
    "warnings.filterwarnings(\"ignore\")"
   ]
  },
  {
   "cell_type": "markdown",
   "metadata": {},
   "source": [
    "## 1.2. Verify if Data is Present\n",
    "---"
   ]
  },
  {
   "cell_type": "code",
   "execution_count": 7,
   "metadata": {},
   "outputs": [],
   "source": [
    "pathlib.Path(\"data\").mkdir(parents=True, exist_ok=True)\n",
    "PATH = str(pathlib.Path.cwd())\n",
    "file_path = pathlib.Path(\"data/HI-Large_Trans.csv\")\n",
    "\n",
    "if not file_path.is_file():\n",
    "    with zipfile.ZipFile(\"./data.zip\", 'r') as zf:\n",
    "        zf.extractall(\"./data/\")"
   ]
  },
  {
   "cell_type": "markdown",
   "metadata": {},
   "source": [
    "# 2. Exploratory Data Analisys (EDA)\n",
    "---"
   ]
  },
  {
   "cell_type": "markdown",
   "metadata": {},
   "source": [
    "## 2.1. Reading the HI-Small_Trans file"
   ]
  },
  {
   "cell_type": "code",
   "execution_count": null,
   "metadata": {},
   "outputs": [],
   "source": [
    "import pandas as pd\n",
    "\n",
    "full_df = pd.read_csv(\"./data/HI-Small_Trans.csv\")\n",
    "\n",
    "full_df.shape"
   ]
  },
  {
   "cell_type": "markdown",
   "metadata": {},
   "source": [
    "### 2.1.1. Sampling a Portion of the Original DataFrame\n",
    "---"
   ]
  },
  {
   "cell_type": "code",
   "execution_count": null,
   "metadata": {},
   "outputs": [],
   "source": [
    "df = full_df.sample(n=500000, random_state=42)\n",
    "\n",
    "df.shape"
   ]
  },
  {
   "cell_type": "code",
   "execution_count": null,
   "metadata": {},
   "outputs": [],
   "source": [
    "df.head()"
   ]
  },
  {
   "cell_type": "markdown",
   "metadata": {},
   "source": [
    "### 2.1.2. About the Features\n",
    "---"
   ]
  },
  {
   "cell_type": "code",
   "execution_count": null,
   "metadata": {},
   "outputs": [],
   "source": [
    "df.info()"
   ]
  },
  {
   "cell_type": "markdown",
   "metadata": {},
   "source": [
    "## 2.2. Basic Statistic in the Numerical Features\n",
    "---"
   ]
  },
  {
   "cell_type": "code",
   "execution_count": null,
   "metadata": {},
   "outputs": [],
   "source": [
    "df.select_dtypes(exclude='object').describe()"
   ]
  },
  {
   "cell_type": "code",
   "execution_count": 20,
   "metadata": {},
   "outputs": [],
   "source": [
    "# def feature_values_changer(col, zero, one):\n",
    "#     for i in range(col.shape[0]):\n",
    "#         if col.values[i] == zero:\n",
    "#             col.values[i] = 0\n",
    "#         elif col.values[i] == one:\n",
    "#             col.values[i] = 1\n",
    "#         else:\n",
    "#             col.values[i] = 2\n",
    "    \n",
    "#     return col"
   ]
  },
  {
   "cell_type": "markdown",
   "metadata": {},
   "source": [
    "Reading the HI-Large_Trans.csv, 1000000 rows each time, isolating only 'Is Laundering' == 1 "
   ]
  },
  {
   "cell_type": "code",
   "execution_count": null,
   "metadata": {},
   "outputs": [],
   "source": [
    "# dfs = []\n",
    "# count = 1\n",
    "# for df in pd.read_csv('./data/HI-Large_Trans.csv', chunksize=1000000):\n",
    "#     df = df[df['Is Laundering'] == 1]\n",
    "    \n",
    "#     del df['Timestamp']\n",
    "#     dfs.append(df)\n",
    "    \n",
    "#     if count % 10 == 0:\n",
    "#         print(f\"{(count / 180)*100:.2f}% complete\")\n",
    "#     count += 1"
   ]
  },
  {
   "cell_type": "code",
   "execution_count": null,
   "metadata": {},
   "outputs": [],
   "source": [
    "# df_full_1 = pd.concat(dfs)\n",
    "# del dfs\n",
    "\n",
    "# ones_count = df_full_1.shape[0]\n",
    "# print(\"Number of rows with 'Is Laundering' == 1:\", ones_count)"
   ]
  },
  {
   "cell_type": "markdown",
   "metadata": {},
   "source": [
    "Reading the HI-Large_Trans.csv, 1000000 rows each time, isolating only 'Is Laundering' == 0, until it becames 1:1 ratio with 'Is Laundering' == 1"
   ]
  },
  {
   "cell_type": "code",
   "execution_count": 37,
   "metadata": {},
   "outputs": [],
   "source": [
    "# dfs = []\n",
    "# current = 0\n",
    "# for df in pd.read_csv('./data/HI-Large_Trans.csv', chunksize=15000):\n",
    "#     df = df[df['Is Laundering'] == 0]\n",
    "#     current += df.shape[0]\n",
    "    \n",
    "#     del df['Timestamp']\n",
    "#     dfs.append(df)\n",
    "\n",
    "#     if current >= ones_count:\n",
    "#         break"
   ]
  },
  {
   "cell_type": "code",
   "execution_count": null,
   "metadata": {},
   "outputs": [],
   "source": [
    "# df_full_0 = pd.concat(dfs)\n",
    "# df_full = pd.concat([df_full_0, df_full_1])\n",
    "# del dfs\n",
    "\n",
    "# zeros_count = df_full_0.shape[0]\n",
    "# print(\"Number of rows with 'Is Laundering' == 0:\", zeros_count)"
   ]
  },
  {
   "cell_type": "code",
   "execution_count": null,
   "metadata": {},
   "outputs": [],
   "source": [
    "# df_full.head()"
   ]
  },
  {
   "cell_type": "code",
   "execution_count": null,
   "metadata": {},
   "outputs": [],
   "source": [
    "# df_full.info()"
   ]
  },
  {
   "cell_type": "code",
   "execution_count": null,
   "metadata": {},
   "outputs": [],
   "source": [
    "# print(\"Unique values for feature:\")\n",
    "# {feature:len(df_full[feature].unique()) for feature in df_full.columns}"
   ]
  },
  {
   "cell_type": "code",
   "execution_count": null,
   "metadata": {},
   "outputs": [],
   "source": [
    "# df_full.describe()"
   ]
  },
  {
   "cell_type": "code",
   "execution_count": null,
   "metadata": {},
   "outputs": [],
   "source": [
    "import pandas as pd\n",
    "\n",
    "full_df = pd.read_csv(\"./data/HI-Small_Trans.csv\")\n",
    "\n",
    "full_df.shape"
   ]
  },
  {
   "cell_type": "code",
   "execution_count": null,
   "metadata": {},
   "outputs": [],
   "source": [
    "full_df.head()"
   ]
  },
  {
   "cell_type": "markdown",
   "metadata": {},
   "source": [
    "There are two columns representing paid and received amount of each transcation, wondering if it is necessary to split the amount into two columns when they shared the same value, unless there are transcation fee/transcation between different currency. Let's find out "
   ]
  },
  {
   "cell_type": "code",
   "execution_count": null,
   "metadata": {},
   "outputs": [],
   "source": [
    "print('Amount Received equals to Amount Paid:')\n",
    "print(full_df['Amount Received'].equals(full_df['Amount Paid']))\n",
    "print('Receiving Currency equals to Payment Currency:')\n",
    "print(full_df['Receiving Currency'].equals(full_df['Payment Currency']))"
   ]
  },
  {
   "cell_type": "code",
   "execution_count": null,
   "metadata": {},
   "outputs": [],
   "source": [
    "not_equal1 = full_df.loc[~(full_df['Amount Received'] == full_df['Amount Paid'])]\n",
    "not_equal2 = full_df.loc[~(full_df['Receiving Currency'] == full_df['Payment Currency'])]\n",
    "print(\"Transactions with different amount received and paid\")\n",
    "display(not_equal1.head())\n",
    "print('---------------------------------------------------------------------------')\n",
    "print(\"Transactions with differente currency received and paid\")\n",
    "display(not_equal2.head())"
   ]
  },
  {
   "cell_type": "markdown",
   "metadata": {},
   "source": [
    "Checking if the values of `Receiving Currency` and `Payment Currency` match"
   ]
  },
  {
   "cell_type": "code",
   "execution_count": null,
   "metadata": {},
   "outputs": [],
   "source": [
    "print(sorted(full_df['Receiving Currency'].unique()))\n",
    "print(sorted(full_df['Payment Currency'].unique()))"
   ]
  },
  {
   "cell_type": "markdown",
   "metadata": {},
   "source": [
    "In the data preprocessing, we perform below transformation:  \n",
    "1. Transform the Timestamp with min max normalization.  \n",
    "2. Create unique ID for each account by adding bank code with account number.  \n",
    "3. Create receiving_df with the information of receiving accounts, received amount and currency\n",
    "4. Create paying_df with the information of payer accounts, paid amount and currency\n",
    "5. Create a list of currency used among all transactions\n",
    "6. Label the 'Payment Format', 'Payment Currency', 'Receiving Currency' by classes with sklearn OrdinalEncoder"
   ]
  },
  {
   "cell_type": "markdown",
   "metadata": {},
   "source": [
    "# New Approach, now using GNN\n",
    "---"
   ]
  },
  {
   "cell_type": "markdown",
   "metadata": {},
   "source": [
    "## Preprocess Step:\n",
    "---"
   ]
  },
  {
   "cell_type": "code",
   "execution_count": 80,
   "metadata": {},
   "outputs": [],
   "source": [
    "import pandas as pd\n",
    "from datetime import datetime\n",
    "\n",
    "def get_dict_val(name, collection):\n",
    "    if name in collection:\n",
    "        val = collection[name]\n",
    "    else:\n",
    "        val = len(collection)\n",
    "        collection[name] = val\n",
    "    return val\n",
    "\n",
    "def format_timestamp(timestamp):\n",
    "    firstTs = -1\n",
    "    timestamps = []\n",
    "    for i in timestamp:\n",
    "        dt_ts = datetime.strptime(i, '%Y/%m/%d %H:%M')\n",
    "        ts = dt_ts.timestamp()\n",
    "        if firstTs == -1:\n",
    "            day = dt_ts.day\n",
    "            month = dt_ts.month\n",
    "            year = dt_ts.year\n",
    "            startTime = datetime(year, month, day)\n",
    "            firstTs = startTime.timestamp() - 10\n",
    "        ts = ts - firstTs\n",
    "        timestamps.append(ts)\n",
    "\n",
    "    return timestamps\n",
    "\n",
    "\n",
    "df_edges = pd.read_csv(\"./data/HI-Small_Trans.csv\")\n",
    "\n",
    "currency = dict()\n",
    "payment_format = dict()\n",
    "fromAccIdStr = dict()\n",
    "toAccIdStr = dict()\n",
    "\n",
    "df_edges[\"Timestamp\"] = format_timestamp(df_edges[\"Timestamp\"])\n",
    "df_edges[\"Received Currency\"] = df_edges['Receiving Currency'].apply(lambda x: get_dict_val(x, currency))\n",
    "df_edges[\"Sent Currency\"] = df_edges['Payment Currency'].apply(lambda x: get_dict_val(x, currency))\n",
    "df_edges[\"Payment Format\"] = df_edges['Payment Format'].apply(lambda x: get_dict_val(x, payment_format))\n",
    "df_edges[\"temp\"] = df_edges[\"From Bank\"].astype(str) + df_edges[\"Account\"].astype(str)\n",
    "df_edges[\"from_id\"] = df_edges[\"temp\"].apply(lambda x: get_dict_val(x, fromAccIdStr))\n",
    "df_edges[\"temp\"] = df_edges[\"To Bank\"].astype(str) + df_edges[\"Account.1\"].astype(str)\n",
    "df_edges[\"to_id\"] = df_edges[\"temp\"].apply(lambda x: get_dict_val(x, toAccIdStr))\n",
    "\n",
    "df_edges.reset_index(drop=True, inplace=True)\n",
    "df_edges[\"EdgeID\"] = df_edges.index\n",
    "\n",
    "df_edges.rename(columns={\"Amount Paid\":\"Amount Sent\"}, inplace=True)\n",
    "\n",
    "df_edges.drop(columns=[\"temp\", \"From Bank\", \"Account\",\n",
    "                       \"To Bank\", \"Account.1\", \"Receiving Currency\",\n",
    "                       \"Payment Currency\"], inplace=True)\n",
    "\n",
    "df_edges = df_edges.reindex(columns=[\"EdgeID\",\"from_id\",\"to_id\",\"Timestamp\",\n",
    "                                     \"Amount Sent\",\"Sent Currency\",\"Amount Received\",\n",
    "                                     \"Received Currency\",\"Payment Format\",\"Is Laundering\"])\n",
    "\n",
    "df_edges[\"Timestamp\"] = df_edges[\"Timestamp\"] - df_edges[\"Timestamp\"].min()\n",
    "df_edges = df_edges.sort_values(by=\"Timestamp\")"
   ]
  },
  {
   "cell_type": "code",
   "execution_count": 81,
   "metadata": {},
   "outputs": [],
   "source": []
  },
  {
   "cell_type": "code",
   "execution_count": 99,
   "metadata": {},
   "outputs": [],
   "source": [
    "import torch\n",
    "import numpy as np\n",
    "\n",
    "max_n_id = df_edges.loc[:, ['from_id', 'to_id']].to_numpy().max() + 1\n",
    "df_nodes = pd.DataFrame({'NodeID': np.arange(max_n_id), 'Feature': np.ones(max_n_id)})\n",
    "timestamps = torch.Tensor(df_edges['Timestamp'].to_numpy())\n",
    "y = torch.LongTensor(df_edges['Is Laundering'].to_numpy())\n",
    "\n",
    "edge_features = ['Timestamp', 'Amount Received', 'Received Currency', 'Payment Format']\n",
    "node_features = ['Feature']\n",
    "\n",
    "X = torch.tensor(df_nodes.loc[:, node_features].to_numpy()).float()\n",
    "edge_index = torch.LongTensor(df_edges.loc[:, ['from_id', 'to_id']].to_numpy().T)\n",
    "edge_attr = torch.tensor(df_edges.loc[:, edge_features].to_numpy()).float()\n",
    "\n",
    "n_days = int(timestamps.max() / (3600 * 24) + 1)\n",
    "n_samples = y.shape[0]"
   ]
  },
  {
   "cell_type": "code",
   "execution_count": 165,
   "metadata": {},
   "outputs": [],
   "source": [
    "import itertools\n",
    "\n",
    "#data splitting\n",
    "daily_irs, weighted_daily_irs, daily_inds, daily_trans = [], [], [], [] #irs = illicit\n",
    "\n",
    "for day in range(n_days):\n",
    "        l = day * 24 * 3600\n",
    "        r = (day + 1) * 24 * 3600\n",
    "        day_inds = torch.where((timestamps >= l) & (timestamps < r))[0]\n",
    "        daily_irs.append(y[day_inds].float().mean())\n",
    "        weighted_daily_irs.append(y[day_inds].float().mean() * day_inds.shape[0] / n_samples)\n",
    "        daily_inds.append(day_inds)\n",
    "        daily_trans.append(day_inds.shape[0])\n",
    "\n",
    "# Recommended split_percentages for train, validation and test. \n",
    "split_per = [0.6, 0.2, 0.2]\n",
    "daily_totals = np.array(daily_trans)\n",
    "d_ts = daily_totals\n",
    "I = list(range(len(d_ts)))\n",
    "split_scores = dict()\n",
    "\n",
    "# Iterates over all days combination ranges and stores the score at split_scores\n",
    "for i,j in itertools.combinations(I, 2):\n",
    "    if j >= i:\n",
    "        split_totals = [d_ts[:i].sum(), d_ts[i:j].sum(), d_ts[j:].sum()]\n",
    "        split_totals_sum = np.sum(split_totals)\n",
    "        split_props = [v/split_totals_sum for v in split_totals] # proportion of each split compared to the total transactions\n",
    "        split_error = [abs(v-t)/t for v,t in zip(split_props, split_per)] \n",
    "        score = max(split_error) #- (split_totals_sum/total) + 1\n",
    "        split_scores[(i,j)] = score\n",
    "    else:\n",
    "        continue\n",
    "i,j = min(split_scores, key=split_scores.get) # get the best i,j from split_scores\n",
    "\n",
    "# split contains a list for each split (train, validation and test) and each list contains the days that are part of the respective split\n",
    "split = [list(range(i)), list(range(i, j)), list(range(j, len(daily_totals)))]\n",
    "\n",
    "# seperate the transactions based on their indices in the timestamp array\n",
    "split_inds = {k: [] for k in range(3)}\n",
    "for i in range(3):\n",
    "    for day in split[i]:\n",
    "        split_inds[i].append(daily_inds[day]) #split_inds contains a list for each split (tr,val,te) which contains the indices of each day seperately\n",
    "\n",
    "tr_inds = torch.cat(split_inds[0])\n",
    "val_inds = torch.cat(split_inds[1])\n",
    "te_inds = torch.cat(split_inds[2])\n",
    "\n",
    "tr_x, val_x, te_x = X, X, X # sets the placeholder (ones) to the variables"
   ]
  },
  {
   "cell_type": "code",
   "execution_count": null,
   "metadata": {},
   "outputs": [],
   "source": [
    "print(f\"Total train samples: {tr_inds.shape[0] / y.shape[0] * 100 :.2f}% || IR: \"\n",
    "        f\"{y[tr_inds].float().mean() * 100 :.2f}% || Train days: {split[0][:5]}\")\n",
    "print(f\"Total val samples: {val_inds.shape[0] / y.shape[0] * 100 :.2f}% || IR: \"\n",
    "    f\"{y[val_inds].float().mean() * 100:.2f}% || Val days: {split[1][:5]}\")\n",
    "print(f\"Total test samples: {te_inds.shape[0] / y.shape[0] * 100 :.2f}% || IR: \"\n",
    "    f\"{y[te_inds].float().mean() * 100:.2f}% || Test days: {split[2][:5]}\")\n",
    "\n",
    "# IR stants for Illicit Ratio!"
   ]
  },
  {
   "cell_type": "code",
   "execution_count": 186,
   "metadata": {},
   "outputs": [],
   "source": [
    "e_tr = tr_inds.numpy() # Edge train array\n",
    "e_val = np.concatenate([tr_inds, val_inds]) # Edge validation (train + val) array\n",
    "\n",
    "# Train\n",
    "tr_edge_index, tr_edge_attr, tr_y, tr_edge_times = edge_index[:,e_tr],  edge_attr[e_tr],  y[e_tr],  timestamps[e_tr]\n",
    "\n",
    "# Validation (tr + val)\n",
    "val_edge_index, val_edge_attr, val_y, val_edge_times = edge_index[:,e_val], edge_attr[e_val], y[e_val], timestamps[e_val]\n",
    "\n",
    "# Test (tr + val + te)\n",
    "te_edge_index, te_edge_attr, te_y, te_edge_times = edge_index, edge_attr, y, timestamps"
   ]
  }
 ],
 "metadata": {
  "kernelspec": {
   "display_name": "base",
   "language": "python",
   "name": "python3"
  },
  "language_info": {
   "codemirror_mode": {
    "name": "ipython",
    "version": 3
   },
   "file_extension": ".py",
   "mimetype": "text/x-python",
   "name": "python",
   "nbconvert_exporter": "python",
   "pygments_lexer": "ipython3",
   "version": "3.11.7"
  }
 },
 "nbformat": 4,
 "nbformat_minor": 2
}
